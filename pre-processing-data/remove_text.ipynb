{
  "nbformat": 4,
  "nbformat_minor": 0,
  "metadata": {
    "colab": {
      "provenance": []
    },
    "kernelspec": {
      "name": "python3",
      "display_name": "Python 3"
    },
    "language_info": {
      "name": "python"
    }
  },
  "cells": [
    {
      "cell_type": "code",
      "source": [
        "from google.colab import drive\n",
        "drive.mount('/content/drive')"
      ],
      "metadata": {
        "id": "g2cOO2kT23aY"
      },
      "execution_count": null,
      "outputs": []
    },
    {
      "cell_type": "code",
      "execution_count": null,
      "metadata": {
        "id": "tZadt2dg0PMa",
        "colab": {
          "base_uri": "https://localhost:8080/"
        },
        "outputId": "f2f50985-11db-4a6c-f761-cb127427360f"
      },
      "outputs": [
        {
          "output_type": "stream",
          "name": "stdout",
          "text": [
            "Pattern length: 3086\n",
            "Pattern: (?:Bình luận\\s*\\(\\s*0\\s*\\)\\s*Tổng biên tập: Nguyễn Ngọc Toàn\\s*Phó tổng biên tập: Lâm Hiếu Dũng\\s*Phó tổng biên tập: Trần Việt Hưng\\s*Tổng thư ký tòa soạn: Đức Trung\\s*Bình luận\\s*\\(\\s*0\\s*\\)|Đã có lỗi xảy ra, mời bạn quay lại bài viết và thực hiện lại thao tác\\s*Tuổi Trẻ Online sẽ gởi đến bạn những tin tức nổi bật nhất\\s*Hiện chưa có bình luận nào, hãy là người đầu tiên bình luận\\s*Tài khoản được sử dụng đến ngày\\s*\\|?\\s*Bạn đang có 0 trong tài khoản\\s*1 sao\\s*=\\s*1000đ\\. Mua thêm sao để tham gia hoạt động tương tác trên Tuổi Trẻ như: Đổi quà lưu niệm, Tặng sao cho tác giả, Shopping\\s*Hiện chưa có bình luận nào, hãy là người đầu tiên bình luận\\s*Ý kiến của bạn sẽ được biên tập trước khi đăng, xin vui lòng viết bằng tiếng Việt có dấu\\.|Hiện chưa có bình luận nào, hãy là người đầu tiên bình luận\\s*Giấy phép hoạt động báo điện tử tiếng Việt, tiếng Anh Số 561/GP-BTTTT, cấp ngày 25-11-2022\\.|Địa chỉ: 60A Hoàng Văn Thụ, P\\.9, Q\\.Phú Nhuận, Tp\\. Hồ Chí Minh\\s*Hotline: 0918\\.033\\.133\\s*-\\s*Email: tto@tuoitre\\.com\\.vn\\s*Phòng Quảng Cáo Báo Tuổi Trẻ: 028\\.39974848\\s*Đăng ký email\\s*-\\s*Mở cổng thông tin\\s*Luôn cập nhật tin tức, sự kiện mới nhất\\s*© Copyright 2025 TuoiTre Online, All rights reserved ® Tuổi Trẻ Online giữ bản quyền nội dung trên website này|Thông tin đăng nhập không đúng\\.|Tài khoản bị khóa, vui lòng liên hệ quản trị viên\\.|Có lỗi phát sinh\\. Vui lòng thử lại sau\\.|Mật khẩu phải có ít nhất 6 kí tự\\.|Thêm chuyên mục, tăng trải nghiệm với Tuổi Trẻ Sao\\s*Từ ngày 1-1-2023, Tuổi Trẻ Online giới thiệu Tuổi Trẻ Sao - phiên bản đặc biệt dành riêng cho các thành viên với nhiều chuyên mục và trải nghiệm thú vị, bao gồm: Tư vấn pháp luật, Hỏi chuyện sức khỏe; Xem nhật báo sắc nét trên mạng \\(E-paper\\), Tuổi Trẻ Live \\(trực tiếp các sự kiện thời sự nóng bỏng, hấp dẫn\\)\\.|Tuổi Trẻ Sao được thiết kế thông thoáng với tất cả các trang, chuyên mục và video đều không có quảng cáo hiển thị, không làm ngắt quãng sự tập trung của bạn đọc\\.|Bằng cách đóng góp Sao, thành viên Tuổi Trẻ Sao có thể tham gia các hoạt động và tương tác trên nền tảng Tuổi Trẻ Online như tặng Sao cho tác giả và các bài viết yêu thích, đổi quà lưu niệm trong chương trình, đăng ký quảng cáo, mua sắm trực tuyến\\.|Báo Tuổi Trẻ phát triển Tuổi Trẻ Sao nhằm từng bước nâng cao chất lượng nội dung, tăng khả năng kết nối, tương tác và thực hiện các nội dung mới theo nhu cầu của số đông công chúng\\.|Chúng tôi hy vọng Tuổi Trẻ Sao sẽ góp phần chăm sóc, phục vụ và mang lại những trải nghiệm mới mẻ, tích cực hơn cho cộng đồng độc giả của Tuổi Trẻ Online\\.|\\s{2,}\\s*Đọc tiếp\\s*\\s{2,}\\s*Về trang Chủ đề\\s{2,}|\\s*ĐĂNG KÝ THAM DỰ SỰ KIỆN\\s*TẠI ĐÂY\\s*|Địa chỉ: Tầng 21 Tòa nhà Center Building\\. Số 1 Nguyễn Huy Tưởng, Thanh Xuân, Hà Nội\\.\\s*Điện thoại: 024 7309 5555 Máy lẻ 292\\. Fax: 024-39744082\\s*Email: info@cafef\\.vn \\| Hotline: 0926 864 344\\s*Chịu trách nhiệm nội dung: Ông Nguyễn Thế Tân\\s*© Copyright 2007 - 2025 - Công ty Cổ phần VCCorp\\.\\s*Giấy phép thiết lập trang thông tin điện tử tổng hợp trên mạng số 2216/GP-TTĐT do Sở Thông tin và Truyền thông Hà Nội cấp ngày 10 tháng 4 năm 2019\\.)\n"
          ]
        }
      ],
      "source": [
        "import pandas as pd\n",
        "\n",
        "file_path = '/content/drive/MyDrive/KLTN_2025/KLTN/REPORT_MEMBER/Thịnh/data_news_remove.xlsx'\n",
        "df = pd.read_excel(file_path)\n",
        "\n",
        "# Define individual segments of text to remove\n",
        "segment1 = r'Bình luận\\s*\\(\\s*0\\s*\\)\\s*Tổng biên tập: Nguyễn Ngọc Toàn\\s*Phó tổng biên tập: Lâm Hiếu Dũng\\s*Phó tổng biên tập: Trần Việt Hưng\\s*Tổng thư ký tòa soạn: Đức Trung\\s*Bình luận\\s*\\(\\s*0\\s*\\)'\n",
        "segment2 = r'Đã có lỗi xảy ra, mời bạn quay lại bài viết và thực hiện lại thao tác\\s*Tuổi Trẻ Online sẽ gởi đến bạn những tin tức nổi bật nhất\\s*Hiện chưa có bình luận nào, hãy là người đầu tiên bình luận\\s*Tài khoản được sử dụng đến ngày\\s*\\|?\\s*Bạn đang có 0 trong tài khoản\\s*1 sao\\s*=\\s*1000đ\\. Mua thêm sao để tham gia hoạt động tương tác trên Tuổi Trẻ như: Đổi quà lưu niệm, Tặng sao cho tác giả, Shopping\\s*Hiện chưa có bình luận nào, hãy là người đầu tiên bình luận\\s*Ý kiến của bạn sẽ được biên tập trước khi đăng, xin vui lòng viết bằng tiếng Việt có dấu\\.'\n",
        "segment3 = r'Hiện chưa có bình luận nào, hãy là người đầu tiên bình luận\\s*Giấy phép hoạt động báo điện tử tiếng Việt, tiếng Anh Số 561/GP-BTTTT, cấp ngày 25-11-2022\\.'\n",
        "segment4 = r'Địa chỉ: 60A Hoàng Văn Thụ, P\\.9, Q\\.Phú Nhuận, Tp\\. Hồ Chí Minh\\s*Hotline: 0918\\.033\\.133\\s*-\\s*Email: tto@tuoitre\\.com\\.vn\\s*Phòng Quảng Cáo Báo Tuổi Trẻ: 028\\.39974848\\s*Đăng ký email\\s*-\\s*Mở cổng thông tin\\s*Luôn cập nhật tin tức, sự kiện mới nhất\\s*© Copyright 2025 TuoiTre Online, All rights reserved ® Tuổi Trẻ Online giữ bản quyền nội dung trên website này'\n",
        "segment5 = r'Thông tin đăng nhập không đúng\\.|Tài khoản bị khóa, vui lòng liên hệ quản trị viên\\.|Có lỗi phát sinh\\. Vui lòng thử lại sau\\.|Mật khẩu phải có ít nhất 6 kí tự\\.'\n",
        "segment6 = r'Thêm chuyên mục, tăng trải nghiệm với Tuổi Trẻ Sao\\s*Từ ngày 1-1-2023, Tuổi Trẻ Online giới thiệu Tuổi Trẻ Sao - phiên bản đặc biệt dành riêng cho các thành viên với nhiều chuyên mục và trải nghiệm thú vị, bao gồm: Tư vấn pháp luật, Hỏi chuyện sức khỏe; Xem nhật báo sắc nét trên mạng \\(E-paper\\), Tuổi Trẻ Live \\(trực tiếp các sự kiện thời sự nóng bỏng, hấp dẫn\\)\\.|Tuổi Trẻ Sao được thiết kế thông thoáng với tất cả các trang, chuyên mục và video đều không có quảng cáo hiển thị, không làm ngắt quãng sự tập trung của bạn đọc\\.|Bằng cách đóng góp Sao, thành viên Tuổi Trẻ Sao có thể tham gia các hoạt động và tương tác trên nền tảng Tuổi Trẻ Online như tặng Sao cho tác giả và các bài viết yêu thích, đổi quà lưu niệm trong chương trình, đăng ký quảng cáo, mua sắm trực tuyến\\.|Báo Tuổi Trẻ phát triển Tuổi Trẻ Sao nhằm từng bước nâng cao chất lượng nội dung, tăng khả năng kết nối, tương tác và thực hiện các nội dung mới theo nhu cầu của số đông công chúng\\.|Chúng tôi hy vọng Tuổi Trẻ Sao sẽ góp phần chăm sóc, phục vụ và mang lại những trải nghiệm mới mẻ, tích cực hơn cho cộng đồng độc giả của Tuổi Trẻ Online\\.'\n",
        "segment7 = r'\\s{2,}\\s*Đọc tiếp\\s*\\s{2,}\\s*Về trang Chủ đề\\s{2,}'\n",
        "segment8 = r'\\s*ĐĂNG KÝ THAM DỰ SỰ KIỆN\\s*TẠI ĐÂY\\s*'\n",
        "segment9 = r'Địa chỉ: Tầng 21 Tòa nhà Center Building\\. Số 1 Nguyễn Huy Tưởng, Thanh Xuân, Hà Nội\\.\\s*Điện thoại: 024 7309 5555 Máy lẻ 292\\. Fax: 024-39744082\\s*Email: info@cafef\\.vn \\| Hotline: 0926 864 344\\s*Chịu trách nhiệm nội dung: Ông Nguyễn Thế Tân\\s*© Copyright 2007 - 2025 - Công ty Cổ phần VCCorp\\.\\s*Giấy phép thiết lập trang thông tin điện tử tổng hợp trên mạng số 2216/GP-TTĐT do Sở Thông tin và Truyền thông Hà Nội cấp ngày 10 tháng 4 năm 2019\\.'\n",
        "\n",
        "# Combine all segments into one pattern\n",
        "text_to_remove_pattern = r'(?:' + segment1 + '|' + segment2 + '|' + segment3 + '|' + segment4 + '|' + segment5 + '|' + segment6 + '|' + segment7 + '|' + segment8 + '|' + segment9 + ')'\n",
        "\n",
        "# Debug: Print the pattern to check for syntax issues\n",
        "print(\"Pattern length:\", len(text_to_remove_pattern))\n",
        "print(\"Pattern:\", text_to_remove_pattern)\n",
        "\n",
        "df['result'] = df['content'].str.replace(text_to_remove_pattern, '', regex=True)\n",
        "\n",
        "output_path = '/content/drive/MyDrive/KLTN_2025/KLTN/REPORT_MEMBER/Thịnh/remove_text.xlsx'\n",
        "df.to_excel(output_path, index=False)"
      ]
    }
  ]
}